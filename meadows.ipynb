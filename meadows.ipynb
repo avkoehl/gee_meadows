{
  "cells": [
    {
      "cell_type": "code",
      "execution_count": 2,
      "metadata": {
        "colab": {
          "base_uri": "https://localhost:8080/"
        },
        "id": "fMbF_O9KY0NG",
        "outputId": "20451bc8-06d3-4139-e411-0b2bea551272"
      },
      "outputs": [
        {
          "data": {
            "text/html": [
              "<p>To authorize access needed by Earth Engine, open the following\n",
              "        URL in a web browser and follow the instructions:</p>\n",
              "        <p><a href=https://code.earthengine.google.com/client-auth?scopes=https%3A//www.googleapis.com/auth/earthengine%20https%3A//www.googleapis.com/auth/devstorage.full_control&request_id=eO5_NrAeXKfgE4IrkoxAMCQsnU3f818kjhx9OjQE-zk&tc=lGEO72zNaUgYhqfLajQQpMVVIpfJH75g1CE0g1UFbPA&cc=6yuK3oeNK9t_LWAmNbi6EMDKRHG141vTQieWJwirLJY>https://code.earthengine.google.com/client-auth?scopes=https%3A//www.googleapis.com/auth/earthengine%20https%3A//www.googleapis.com/auth/devstorage.full_control&request_id=eO5_NrAeXKfgE4IrkoxAMCQsnU3f818kjhx9OjQE-zk&tc=lGEO72zNaUgYhqfLajQQpMVVIpfJH75g1CE0g1UFbPA&cc=6yuK3oeNK9t_LWAmNbi6EMDKRHG141vTQieWJwirLJY</a></p>\n",
              "        <p>The authorization workflow will generate a code, which you should paste in the box below.</p>\n",
              "        "
            ],
            "text/plain": [
              "<IPython.core.display.HTML object>"
            ]
          },
          "metadata": {},
          "output_type": "display_data"
        },
        {
          "name": "stdout",
          "output_type": "stream",
          "text": [
            "\n",
            "Successfully saved authorization token.\n"
          ]
        }
      ],
      "source": [
        "import ee\n",
        "ee.Authenticate()\n",
        "ee.Initialize()"
      ]
    },
    {
      "cell_type": "code",
      "execution_count": 1,
      "metadata": {
        "id": "nCSdUPR8Y35h"
      },
      "outputs": [],
      "source": [
        "import pandas as pd\n",
        "import numpy as np\n",
        "import matplotlib\n",
        "import scipy\n",
        "import folium\n",
        "import shapely\n",
        "from IPython.display import Image"
      ]
    },
    {
      "cell_type": "code",
      "execution_count": 3,
      "metadata": {
        "id": "GRmED_ZR0WiM"
      },
      "outputs": [],
      "source": [
        "import geopandas as gpd\n",
        "import rasterio\n",
        "import pygeohydro"
      ]
    },
    {
      "cell_type": "code",
      "execution_count": null,
      "metadata": {
        "id": "YvqKWY6K0lRp"
      },
      "outputs": [],
      "source": [
        "meadows_df = gpd.read_parquet(\"./meadows_data/ucdmeadows/ucdmeadows.parquet\")\n",
        "meadows_df.head()\n",
        "meadows_df = meadows_df.to_crs(\"WGS84\")"
      ]
    },
    {
      "cell_type": "code",
      "execution_count": null,
      "metadata": {
        "colab": {
          "base_uri": "https://localhost:8080/",
          "height": 727
        },
        "id": "NOUH1y8w0uln",
        "outputId": "3643b7b2-9dff-42ed-a199-e6b94e64346a"
      },
      "outputs": [],
      "source": [
        "## get all the data and layers that intersect with points in one huc12\n",
        "sample = meadows_df.loc[meadows_df['HUC12'] == '180300020601']\n",
        "sample"
      ]
    },
    {
      "cell_type": "code",
      "execution_count": null,
      "metadata": {
        "colab": {
          "base_uri": "https://localhost:8080/"
        },
        "id": "LPbzwQWO8l8B",
        "outputId": "6086c138-d1d9-4c07-e2fc-c599bba20cea"
      },
      "outputs": [],
      "source": [
        "wbd = pygeohydro.watershed.WBD('huc12')\n",
        "data = wbd.byids(field='huc12', fids=['180201210605'])\n",
        "data = data.to_crs(meadows_df.crs)\n",
        "data.iloc[0].geometry\n",
        "data.crs"
      ]
    },
    {
      "attachments": {},
      "cell_type": "markdown",
      "metadata": {
        "id": "GqSI0lvf531H"
      },
      "source": [
        "\n",
        "1.    get landsat that intersects with data geometry where data is WBD return union month=month\n",
        "2.   get monthly average for all bands in month mosaiced\n",
        "3.   add bands for elevation, chili, mTPI, slope\n",
        "4.   make feature collection from meadows\n",
        "5.   split into train/test\n",
        "6.   train classifier\n",
        "7.   get metrics"
      ]
    },
    {
      "cell_type": "code",
      "execution_count": null,
      "metadata": {
        "id": "D8MMjDzB4_ok"
      },
      "outputs": [],
      "source": [
        "import geemap.foliumap as geemap"
      ]
    },
    {
      "cell_type": "code",
      "execution_count": null,
      "metadata": {
        "id": "4nX-ApAwCPfx"
      },
      "outputs": [],
      "source": [
        "from geemap.plot import geopandas_to_ee\n",
        "study_area = geopandas_to_ee(data)"
      ]
    },
    {
      "cell_type": "code",
      "execution_count": null,
      "metadata": {
        "id": "yAyreDXNLq9P"
      },
      "outputs": [],
      "source": [
        "def bitwise_extract(input, start=3, end=4):\n",
        "        mask_size = ee.Number(1).add(end).subtract(start)\n",
        "        mask = ee.Number(1).leftShift(mask_size).subtract(1)\n",
        "        return input.rightShift(start).bitwiseAnd(mask)\n",
        "\n",
        "def mask_clouds(image):\n",
        "    # https://spatialthoughts.com/2021/08/19/qa-bands-bitmasks-gee/\n",
        "    # https://developers.google.com/earth-engine/datasets/catalog/LANDSAT_LC08_C02_T1_L2#bands\n",
        "\n",
        "    qa = image.select('QA_PIXEL')\n",
        "    # clouds are Bit 3, cloud shadow is Bit 4\n",
        "    cloud_mask = bitwise_extract(qa).eq(0)\n",
        "    image = image.updateMask(cloud_mask)\n",
        "    return image\n",
        "\n",
        "def scale_factor(image):\n",
        "    optical = image.select('SR_B.').multiply(0.0000275).add(-0.2)\n",
        "    thermal = image.select('ST_B.*').multiply(0.00341802).add(149.0)\n",
        "    image = image.addBands(optical, None, True)\n",
        "    image = image.addBands(thermal, None, True)\n",
        "    return image\n",
        "\n",
        "def compute_indices(image):\n",
        "    ndvi = image.normalizedDifference(['SR_B5', 'SR_B4']).rename(\"NDVI\")\n",
        "    image = image.addBands(ndvi)\n",
        "    return image\n",
        "\n",
        "def clip_sa(ic, study_area):\n",
        "    def clip(image):\n",
        "      return image.clip(study_area)\n",
        "    return ic.map(clip)\n",
        "\n",
        "ls =  ee.ImageCollection(\"LANDSAT/LC08/C02/T1_L2\").filterDate('2013-05-01', '2013-09-30')\n",
        "ls = ls.filterBounds(study_area)\n",
        "ls = clip_sa(ls, study_area)\n",
        "ls = ls.map(scale_factor)\n",
        "ls = ls.map(mask_clouds)\n",
        "ls = ls.map(compute_indices)"
      ]
    },
    {
      "cell_type": "code",
      "execution_count": null,
      "metadata": {
        "colab": {
          "base_uri": "https://localhost:8080/",
          "height": 622
        },
        "id": "UcF63V6PNTP1",
        "outputId": "43ca8d03-c2f3-4f0b-fe48-9130ded46efe"
      },
      "outputs": [],
      "source": [
        "Map = geemap.Map(zoom=4, crs=\"EPSG4326\")\n",
        "Map.set_center(-150.7, 21.7)\n",
        "first = ls.first()\n",
        "vis_params = {'bands':['SR_B4', 'SR_B3', 'SR_B2'], 'min':0, 'max':0.2}\n",
        "ndvi_vis_params = {'bands': ['NDVI'], 'min':-1, 'max':1}\n",
        "Map.addLayer(first, vis_params, 'landsat')\n",
        "Map.addLayer(first, ndvi_vis_params, 'ndvi')\n",
        "Map"
      ]
    },
    {
      "cell_type": "code",
      "execution_count": null,
      "metadata": {
        "colab": {
          "base_uri": "https://localhost:8080/",
          "height": 622
        },
        "id": "DKTIW7wEAFly",
        "outputId": "91bc13d2-afa5-485b-ece1-a06b65f4c9b0"
      },
      "outputs": [],
      "source": [
        "Map = geemap.Map(zoom=4, crs=\"EPSG4326\")\n",
        "Map.set_center(-150.7, 21.7)\n",
        "land_cover = ee.ImageCollection('USGS/NLCD_RELEASES/2019_REL/NLCD')\n",
        "land_cover = land_cover.filter(ee.Filter.eq('system:index', '2019')).first()\n",
        "land_cover = land_cover.select('landcover')\n",
        "Map.addLayer(land_cover, None, 'Landcover')\n",
        "Map"
      ]
    },
    {
      "cell_type": "code",
      "execution_count": null,
      "metadata": {
        "colab": {
          "base_uri": "https://localhost:8080/",
          "height": 622
        },
        "id": "aqbjEcF2pmG2",
        "outputId": "687fb4bf-d2c9-49b6-be41-8c973189ccc3"
      },
      "outputs": [],
      "source": [
        "Map = geemap.Map(zoom=4, crs=\"EPSG4326\")\n",
        "Map.set_center(-150.7, 21.7)\n",
        "dem = ee.Image('USGS/SRTMGL1_003');\n",
        "elevation = dem.select('elevation');\n",
        "slope = ee.Terrain.slope(elevation);\n",
        "Map.addLayer(slope, {'min': 0, 'max': 60}, 'slope');\n",
        "Map.addLayer(elevation, {'min': 0, 'max':3000}, 'elevation');\n",
        "# add flow accumulation\n",
        "# add TPI\n",
        "# add chili\n",
        "# add aspect\n",
        "# add curvature\n",
        "Map"
      ]
    },
    {
      "cell_type": "code",
      "execution_count": null,
      "metadata": {
        "id": "L3MMwLMJ0giB"
      },
      "outputs": [],
      "source": [
        "# tpi"
      ]
    },
    {
      "cell_type": "code",
      "execution_count": null,
      "metadata": {
        "colab": {
          "base_uri": "https://localhost:8080/",
          "height": 622
        },
        "id": "4-sKhpGh8qtT",
        "outputId": "2e755fbf-b87a-4706-d1b7-f35acf746f0a"
      },
      "outputs": [],
      "source": [
        "Map = geemap.Map(zoom=4, crs=\"EPSG4326\")\n",
        "Map.set_center(-150.7, 21.7)\n",
        "naip = ee.ImageCollection('USDA/NAIP/DOQQ')\n",
        "naip = naip.filter(ee.Filter.date('2019-06-01', '2020-07-01'))\n",
        "truecolor = naip.select(['R', 'G', 'B']);\n",
        "vis_params = {\n",
        "  min: 0,\n",
        "  max: 255,\n",
        "};\n",
        "Map.addLayer(truecolor, vis_params, 'True Color');\n",
        "Map"
      ]
    },
    {
      "cell_type": "code",
      "execution_count": null,
      "metadata": {
        "id": "x6j57mpOF8o3"
      },
      "outputs": [],
      "source": [
        "wbd = pygeohydro.watershed.WBD('huc12')\n",
        "data = wbd.byids(field='huc12', fids=['180400090505'])\n",
        "#meadows_df['huc10'] = meadows_df['HUC12'].apply(lambda x: x[:-2])\n",
        "meadows = meadows_df.loc[meadows_df['HUC12'].isin(['180400090505'])]\n",
        "study_area_ee = geopandas_to_ee(data)\n",
        "meadows_ee = geopandas_to_ee(meadows)"
      ]
    },
    {
      "cell_type": "code",
      "execution_count": null,
      "metadata": {
        "colab": {
          "base_uri": "https://localhost:8080/",
          "height": 622
        },
        "id": "AN0Pf0mW6HBM",
        "outputId": "ae2c4254-76bd-4fae-eeb8-2e59ad2d6459"
      },
      "outputs": [],
      "source": [
        "# Option 1:\n",
        "# given a set of points (some meadow, some non-meadow)\n",
        "# use Image.sampleRegions on the points to get the feature values\n",
        "# train cart classifier\n",
        "\n",
        "Map = geemap.Map(zoom=4, crs=\"EPSG4326\")\n",
        "Map.set_center(-149.9, 20.5)\n",
        "naip = ee.ImageCollection('USDA/NAIP/DOQQ')\n",
        "naip = naip.filter(ee.Filter.date('2018-05-01', '2020-07-01'))\n",
        "naip = naip.filterBounds(study_area.geometry())\n",
        "naip = naip.median()\n",
        "naip = naip.clip(study_area_ee.geometry())\n",
        "truecolor = naip.select(['R', 'G', 'B']);\n",
        "vis_params = {\n",
        "  'min': 0,\n",
        "  'max': 255,\n",
        "  'gamma': [1.4, 1.4, 1.4]\n",
        "};\n",
        "Map.addLayer(truecolor, vis_params, 'True Color')\n",
        "Map.addLayer(meadows_ee, {'opacity': 0.5, 'color': 'green'}, 'meadows')\n",
        "Map"
      ]
    },
    {
      "cell_type": "code",
      "execution_count": null,
      "metadata": {
        "colab": {
          "base_uri": "https://localhost:8080/",
          "height": 1000
        },
        "id": "U_br9tX27nYz",
        "outputId": "227699be-2717-43e9-b68c-36718ee6e997"
      },
      "outputs": [],
      "source": [
        "meadows"
      ]
    },
    {
      "cell_type": "code",
      "execution_count": null,
      "metadata": {
        "id": "7msPOWWb_Ow7"
      },
      "outputs": [],
      "source": []
    }
  ],
  "metadata": {
    "colab": {
      "provenance": []
    },
    "kernelspec": {
      "display_name": "Python 3",
      "name": "python3"
    },
    "language_info": {
      "codemirror_mode": {
        "name": "ipython",
        "version": 3
      },
      "file_extension": ".py",
      "mimetype": "text/x-python",
      "name": "python",
      "nbconvert_exporter": "python",
      "pygments_lexer": "ipython3",
      "version": "3.8.17"
    }
  },
  "nbformat": 4,
  "nbformat_minor": 0
}
